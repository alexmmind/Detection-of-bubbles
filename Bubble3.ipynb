{
  "nbformat": 4,
  "nbformat_minor": 0,
  "metadata": {
    "colab": {
      "name": " Bubble3.ipynb",
      "provenance": [],
      "collapsed_sections": []
    },
    "kernelspec": {
      "display_name": "Python 3",
      "name": "python3"
    },
    "language_info": {
      "name": "python"
    }
  },
  "cells": [
    {
      "cell_type": "code",
      "metadata": {
        "id": "SnDRNmFbDIlP"
      },
      "source": [
        "import cv2\n",
        "import os\n",
        "import math\n"
      ],
      "execution_count": null,
      "outputs": []
    },
    {
      "cell_type": "code",
      "metadata": {
        "colab": {
          "base_uri": "https://localhost:8080/"
        },
        "id": "5FDZ1ofrE3ZP",
        "outputId": "a94a2907-a94a-4132-820d-5aaa087557a5"
      },
      "source": [
        "# Load the Drive helper and mount\n",
        "from google.colab import drive\n",
        "\n",
        "# This will prompt for authorization.\n",
        "drive.mount('/content/drive')"
      ],
      "execution_count": null,
      "outputs": [
        {
          "output_type": "stream",
          "text": [
            "Drive already mounted at /content/drive; to attempt to forcibly remount, call drive.mount(\"/content/drive\", force_remount=True).\n"
          ],
          "name": "stdout"
        }
      ]
    },
    {
      "cell_type": "code",
      "metadata": {
        "id": "L_rN4qsFCsCd"
      },
      "source": [
        "class Bubble:\n",
        "    def __init__(self):\n",
        "        self.ID = 0\n",
        "        self.pos = (0, 0)\n",
        "        self.pos_list = []\n",
        "        # пузырь есть на текущем кадре?\n",
        "        self.off_screen = False\n",
        "\n",
        "    def __init__(self, ID_, pos_):\n",
        "        self.ID = ID_\n",
        "        self.pos = pos_\n",
        "        self.off_screen = False\n",
        "        self.pos_list = []\n",
        "    \n",
        "    def pos_upd(self, actual_pos):\n",
        "        self.pos_list.append(self.pos)\n",
        "        self.pos = actual_pos\n",
        "\n",
        "    def get_pos_list(self):\n",
        "        return self.pos_list.copy()\n",
        "\n",
        "    def disp(self):  \n",
        "      print('index:', self.index)\n",
        "      print('center_mass:', self.pos_list)"
      ],
      "execution_count": null,
      "outputs": []
    },
    {
      "cell_type": "code",
      "metadata": {
        "id": "lE62U8BJ9fDi"
      },
      "source": [
        "class CounterOfBubbles:\n",
        "    def __init__(self, step_):\n",
        "        # максимальный приращение перемещения пузыря\n",
        "        self.step = step_\n",
        "        self.bubbles = dict()\n",
        "        self.lastID = 0\n",
        "        # IDs\n",
        "        self.bubblesOnScreen = list()\n",
        "\n",
        "\n",
        "    def update(self, centersOfMass):\n",
        "        # пытаемся найти старые пузыри\n",
        "        # если i-ый центр масс - новый, то True\n",
        "        newBubbles = [True for i in range(len(centersOfMass))]\n",
        "        \n",
        "        for b in self.bubblesOnScreen:\n",
        "            for i in range(len(centersOfMass)):\n",
        "                distance = math.sqrt((centersOfMass[i][0] - self.bubbles[b].pos[0]) ** 2 + (centersOfMass[i][1] - self.bubbles[b].pos[1]) ** 2)\n",
        "                if distance < self.step:\n",
        "                    self.bubbles[b].off_screen = False\n",
        "                    self.bubbles[b].pos_upd(centersOfMass[i])\n",
        "                    #print(self.bubbles[b].ID, self.bubbles[b].pos)\n",
        "                    break\n",
        "            else:\n",
        "                # если пузыря больше нет\n",
        "                self.bubblesOnScreen.remove(b)\n",
        "                self.bubbles[b].off_screen = True\n",
        "                #print(\"less:\", self.bubbles[b].ID, self.bubbles[b].pos)\n",
        "        \n",
        "        for i in range(len(centersOfMass)):\n",
        "            for b in self.bubblesOnScreen:\n",
        "                distance = math.sqrt((centersOfMass[i][0] - self.bubbles[b].pos[0]) ** 2 + (centersOfMass[i][1] - self.bubbles[b].pos[1]) ** 2)\n",
        "                if distance < self.step:\n",
        "                    newBubbles[i] = False\n",
        "\n",
        "        for i in range(len(newBubbles)):\n",
        "            if newBubbles[i] == True:\n",
        "                self.bubblesOnScreen.append(self.lastID)\n",
        "                self.bubbles[self.lastID] = Bubble(self.lastID, centersOfMass[i])\n",
        "                #print(\"new:\", self.bubbles[self.lastID].ID, self.bubbles[self.lastID].pos)\n",
        "                self.lastID += 1\n",
        "\n",
        "    def getStatistics(self):\n",
        "        return self.bubbles"
      ],
      "execution_count": null,
      "outputs": []
    },
    {
      "cell_type": "code",
      "metadata": {
        "id": "mRO5C8trDAm1"
      },
      "source": [
        ""
      ],
      "execution_count": null,
      "outputs": []
    },
    {
      "cell_type": "code",
      "metadata": {
        "id": "rl2rm8TdC3D6"
      },
      "source": [
        "class VideoAnalyzer:\n",
        "    def __init__(self, video_):\n",
        "        self.video = video_\n",
        "        self.counter = CounterOfBubbles(60)\n",
        "\n",
        "    def analyze(self):\n",
        "        #self.previous = 0\n",
        "        #self.bubble_counter = 0\n",
        "        i = 0\n",
        "        for im in self.video:\n",
        "            #print()\n",
        "            #print(i+1)\n",
        "            i += 1\n",
        "            ret, thresh = cv2.threshold(im, 127, 255, 0)\n",
        "            contours, hierarchy = cv2.findContours(thresh, cv2.RETR_TREE, cv2.CHAIN_APPROX_SIMPLE)\n",
        "\n",
        "            centers = list()\n",
        "            for c in contours:\n",
        "                M = cv2.moments(c)\n",
        "                x = int(M['m10'] / M['m00'])\n",
        "                y = int(M['m01'] / M['m00'])\n",
        "                centers.append((x, y))\n",
        "\n",
        "            self.counter.update(centers)    \n",
        "\n"
      ],
      "execution_count": null,
      "outputs": []
    },
    {
      "cell_type": "code",
      "metadata": {
        "id": "ABoXSWyVKoha"
      },
      "source": [
        "path_to_images = '/content/drive/MyDrive/Dataset/masks/'\n",
        "images = []\n",
        "for root, dirs, files in os.walk(path_to_images):\n",
        "  files.sort()\n",
        "  for image in files:\n",
        "       images.append(cv2.imread(path_to_images + image, cv2.IMREAD_GRAYSCALE))\n"
      ],
      "execution_count": null,
      "outputs": []
    },
    {
      "cell_type": "code",
      "metadata": {
        "colab": {
          "base_uri": "https://localhost:8080/"
        },
        "id": "EK-3Dck-0uE3",
        "outputId": "1cbc6405-529a-4d88-da09-943d0d902c05"
      },
      "source": [
        "print(images[0].shape)\n",
        "videoAnalyzer = VideoAnalyzer(images)\n",
        "videoAnalyzer.analyze()\n",
        "print(len(videoAnalyzer.counter.getStatistics()))"
      ],
      "execution_count": null,
      "outputs": [
        {
          "output_type": "stream",
          "text": [
            "(221, 1280)\n",
            "27\n"
          ],
          "name": "stdout"
        }
      ]
    },
    {
      "cell_type": "code",
      "metadata": {
        "id": "o7yoL_SXQLai"
      },
      "source": [
        "def fon(images):\n",
        "  max_image = np.max(images, axis = 0)\n",
        "  return max_image"
      ],
      "execution_count": null,
      "outputs": []
    },
    {
      "cell_type": "code",
      "metadata": {
        "id": "i5nKuslFQMNJ"
      },
      "source": [
        "fon = fon(images)"
      ],
      "execution_count": null,
      "outputs": []
    },
    {
      "cell_type": "code",
      "metadata": {
        "id": "1FtnFVxmbg6s"
      },
      "source": [
        "import numpy as np\n",
        "from PIL import Image as im\n",
        "\n",
        "data = im.fromarray(fon)\n",
        "data.save('/content/drive/MyDrive/csv_test/fon.png')"
      ],
      "execution_count": null,
      "outputs": []
    },
    {
      "cell_type": "code",
      "metadata": {
        "id": "g_NPQ6nSR71b"
      },
      "source": [
        "#from matplotlib import pyplot as plt\n",
        "#plt.imshow(fon)\n",
        "#plt.show()"
      ],
      "execution_count": null,
      "outputs": []
    },
    {
      "cell_type": "code",
      "metadata": {
        "id": "_98pgp8CvEJk"
      },
      "source": [
        "import re\n",
        "import csv\n",
        "import pandas\n",
        "import random\n",
        "import numpy as np \n",
        "from PIL import Image\n",
        "from pandas import DataFrame \n",
        "import matplotlib.pyplot as plt\n",
        "import matplotlib.cbook as cbook \n",
        "import matplotlib.image as image "
      ],
      "execution_count": null,
      "outputs": []
    },
    {
      "cell_type": "code",
      "metadata": {
        "id": "Q7YI4VEz6D9o"
      },
      "source": [
        "path = '/content/drive/MyDrive/csv_test/test.csv'"
      ],
      "execution_count": null,
      "outputs": []
    },
    {
      "cell_type": "code",
      "metadata": {
        "id": "01j_eG5Q1trf"
      },
      "source": [
        "bubble_list = []\n",
        "for i in range (len(videoAnalyzer.counter.getStatistics())):\n",
        "  bubble_list.append(videoAnalyzer.counter.getStatistics()[i])"
      ],
      "execution_count": null,
      "outputs": []
    },
    {
      "cell_type": "code",
      "metadata": {
        "id": "J2ykh8qTxHY_"
      },
      "source": [
        "def bubble_to_csv(bubble_list):\n",
        "  index = []\n",
        "  center_mass = []\n",
        "\n",
        "\n",
        "  for bubble in bubble_list:\n",
        "    index.append(bubble.ID)\n",
        "    center_mass.append(bubble.pos_list)\n",
        "\n",
        "\n",
        "  C = {'index': index,       \n",
        "      'center_mass': center_mass, }\n",
        "\n",
        "  df = DataFrame(C, columns=['index', 'center_mass']) \n",
        "  export_csv = df.to_csv(path, index = None, header = True)"
      ],
      "execution_count": null,
      "outputs": []
    },
    {
      "cell_type": "code",
      "metadata": {
        "id": "4lXHxxr15j6H"
      },
      "source": [
        "def parse_csv(csv_file_path):\n",
        "  result = pandas.read_csv(csv_file_path) \n",
        "  print(result)\n",
        "  print(\"extracted bubble data:\")\n"
      ],
      "execution_count": null,
      "outputs": []
    },
    {
      "cell_type": "code",
      "metadata": {
        "id": "px0bOv3JW89Z"
      },
      "source": [
        "def bubble_extraction_by_index(csv_file_path, i):\n",
        "  result = pandas.read_csv(csv_file_path) \n",
        "  print(\"here is the bubble with the index\", i)\n",
        "  i -= 1\n",
        "  print('index:', result['index'][i])\n",
        "  print('\\nthe trajectory of the center of mass:')\n",
        "\n",
        "  cnt_ms = result['center_mass'][i][1:-1]\n",
        "  cnt_ms = re.sub(\"[\\)|\\ |\\[|\\]|\\(]\", \"\", cnt_ms).split(\",\")\n",
        "  cnt_ms = [float(num) for num in cnt_ms]\n",
        "  x = cnt_ms[::2]\n",
        "  y = cnt_ms[1::2]\n",
        "  fig, ax = plt.subplots()\n",
        "  plt.ylim(0, 221)\n",
        "  ax.plot(x, y, color=\"red\", label=\"center_mass\")\n",
        "  plt.show()"
      ],
      "execution_count": null,
      "outputs": []
    },
    {
      "cell_type": "code",
      "metadata": {
        "id": "WkHsdRgPc3oZ"
      },
      "source": [
        "def bubble_extraction_by_index_and_image(csv_file_path, image_path, i):\n",
        "  result = pandas.read_csv(csv_file_path) \n",
        "  print(\"here is the bubble with the index\", i)\n",
        "  print('index:', result['index'][i])\n",
        "  print('\\nthe trajectory of the center of mass:')\n",
        "\n",
        "  cnt_ms = result['center_mass'][i][1:-1]\n",
        "  cnt_ms = re.sub(\"[\\)|\\ |\\[|\\]|\\(]\", \"\", cnt_ms).split(\",\")\n",
        "  cnt_ms = [float(num) for num in cnt_ms]\n",
        "  x = cnt_ms[::2]\n",
        "  y = cnt_ms[1::2]\n",
        "\n",
        "  img = Image.open(image_path)\n",
        "  width = img.size[0] \n",
        "  height = img.size[1] \n",
        "\n",
        "  with cbook.get_sample_data(image_path) as file: \n",
        "    im = plt.imread(file) \n",
        "\n",
        "  fig, ax = plt.subplots()\n",
        "  plt.ylim(0, 221)\n",
        "  ax.plot(x, y, '-o', color=\"red\", label=\"center_mass\")\n",
        "  fig.figimage(im, 30, 25, alpha = .35) \n",
        "  fig = plt.gcf()\n",
        "  coef = 55\n",
        "  fig.set_size_inches(width/coef, height/coef)\n",
        "  plt.show()"
      ],
      "execution_count": null,
      "outputs": []
    },
    {
      "cell_type": "code",
      "metadata": {
        "id": "gMzg5_JE13UT"
      },
      "source": [
        "bubble_to_csv(bubble_list)"
      ],
      "execution_count": null,
      "outputs": []
    },
    {
      "cell_type": "code",
      "metadata": {
        "colab": {
          "base_uri": "https://localhost:8080/",
          "height": 337
        },
        "id": "Wd1GuajRdM2X",
        "outputId": "d9ab8cc6-21ef-4cda-bd70-bac967adece5"
      },
      "source": [
        "image_path = '/content/drive/MyDrive/csv_test/fon.png'\n",
        "bubble_extraction_by_index_and_image(path, image_path, 3)"
      ],
      "execution_count": null,
      "outputs": [
        {
          "output_type": "stream",
          "text": [
            "here is the bubble with the index 3\n",
            "index: 3\n",
            "\n",
            "the trajectory of the center of mass:\n"
          ],
          "name": "stdout"
        },
        {
          "output_type": "display_data",
          "data": {
            "image/png": "[encoded data removed]",
            "text/plain": [
              "<Figure size 1675.64x289.309 with 1 Axes>"
            ]
          },
          "metadata": {
            "tags": [],
            "needs_background": "light"
          }
        }
      ]
    },
    {
      "cell_type": "code",
      "metadata": {
        "colab": {
          "base_uri": "https://localhost:8080/",
          "height": 336
        },
        "id": "CQXAuuFHXSJq",
        "outputId": "f52b2774-7ba7-4014-9349-9dc229589b5c"
      },
      "source": [
        "bubble_extraction_by_index(path, 3)"
      ],
      "execution_count": null,
      "outputs": [
        {
          "output_type": "stream",
          "text": [
            "here is the bubble with the index 3\n",
            "index: 2\n",
            "\n",
            "the trajectory of the center of mass:\n"
          ],
          "name": "stdout"
        },
        {
          "output_type": "display_data",
          "data": {
            "image/png": "[encoded data removed]",
            "text/plain": [
              "<Figure size 432x288 with 1 Axes>"
            ]
          },
          "metadata": {
            "tags": [],
            "needs_background": "light"
          }
        }
      ]
    },
    {
      "cell_type": "code",
      "metadata": {
        "colab": {
          "base_uri": "https://localhost:8080/"
        },
        "id": "7qNVdOUEHhX0",
        "outputId": "9e899e14-9e82-41ae-ef54-ff58e257ca95"
      },
      "source": [
        "parse_csv(path)"
      ],
      "execution_count": null,
      "outputs": [
        {
          "output_type": "stream",
          "text": [
            "    index                                        center_mass\n",
            "0       0  [(909, 109), (933, 109), (957, 109), (981, 109...\n",
            "1       1  [(328, 108), (352, 108), (377, 108), (401, 108...\n",
            "2       2  [(172, 108), (191, 108), (216, 108), (240, 108...\n",
            "3       3  [(167, 108), (184, 108), (209, 108), (233, 108...\n",
            "4       4  [(182, 108), (205, 108), (229, 108), (254, 108...\n",
            "5       5  [(180, 108), (204, 108), (228, 108), (253, 108...\n",
            "6       6  [(180, 108), (203, 108), (228, 108), (252, 108...\n",
            "7       7  [(172, 108), (192, 108), (217, 108), (241, 108...\n",
            "8       8  [(186, 108), (210, 108), (233, 108), (257, 108...\n",
            "9       9  [(186, 108), (207, 108), (231, 108), (255, 108...\n",
            "10     10  [(173, 108), (191, 108), (215, 108), (240, 108...\n",
            "11     11  [(170, 108), (188, 108), (213, 108), (238, 108...\n",
            "12     12  [(185, 108), (209, 108), (233, 108), (257, 108...\n",
            "13     13  [(161, 108), (178, 108), (202, 108), (226, 108...\n",
            "14     14  [(170, 108), (190, 108), (214, 108), (238, 108...\n",
            "15     15  [(169, 108), (193, 108), (218, 108), (242, 108...\n",
            "16     16  [(163, 108), (185, 108), (210, 108), (235, 107...\n",
            "17     17  [(163, 108), (183, 108), (208, 108), (232, 108...\n",
            "18     18  [(170, 108), (189, 108), (214, 108), (238, 108...\n",
            "19     19  [(169, 108), (187, 108), (211, 108), (235, 108...\n",
            "20     20  [(196, 108), (220, 108), (245, 108), (269, 108...\n",
            "21     21  [(175, 108), (194, 108), (219, 108), (243, 108...\n",
            "22     22  [(188, 108), (212, 108), (236, 108), (261, 108...\n",
            "23     23  [(183, 108), (206, 108), (231, 108), (255, 108...\n",
            "24     24  [(196, 108), (219, 108), (244, 108), (268, 108...\n",
            "25     25  [(196, 108), (221, 108), (246, 108), (270, 108...\n",
            "26     26                                                 []\n",
            "extracted bubble data:\n"
          ],
          "name": "stdout"
        }
      ]
    }
  ]
}